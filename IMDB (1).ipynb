{
 "cells": [
  {
   "cell_type": "code",
   "execution_count": 2,
   "metadata": {},
   "outputs": [],
   "source": [
    "import pandas as pd\n",
    "import numpy as np\n",
    "import requests\n",
    "from bs4 import BeautifulSoup"
   ]
  },
  {
   "cell_type": "markdown",
   "metadata": {},
   "source": [
    "# Web Scraping"
   ]
  },
  {
   "cell_type": "code",
   "execution_count": 3,
   "metadata": {},
   "outputs": [],
   "source": [
    "headers = {'Accept-Language': 'en-US, en;q=0.5'}"
   ]
  },
  {
   "cell_type": "code",
   "execution_count": 4,
   "metadata": {
    "scrolled": true
   },
   "outputs": [],
   "source": [
    "#The dataset contains top 1000 movies based on user rating\n",
    "url  ='https://www.imdb.com/search/title/?groups=top_1000&sort=user_rating,desc&ref_=adv_prv'\n",
    "response = requests.get(url, headers=headers)\n",
    "soup = BeautifulSoup(response.text, 'html.parser')"
   ]
  },
  {
   "cell_type": "code",
   "execution_count": 5,
   "metadata": {},
   "outputs": [
    {
     "data": {
      "text/plain": [
       "<Response [200]>"
      ]
     },
     "execution_count": 5,
     "metadata": {},
     "output_type": "execute_result"
    }
   ],
   "source": [
    "response"
   ]
  },
  {
   "cell_type": "code",
   "execution_count": 6,
   "metadata": {},
   "outputs": [
    {
     "data": {
      "text/plain": [
       "array([  1,  51, 101, 151, 201, 251, 301, 351, 401, 451, 501, 551, 601,\n",
       "       651, 701, 751, 801, 851, 901, 951])"
      ]
     },
     "execution_count": 6,
     "metadata": {},
     "output_type": "execute_result"
    }
   ],
   "source": [
    "pages = np.arange(1, 1001, 50)\n",
    "pages"
   ]
  },
  {
   "cell_type": "code",
   "execution_count": 8,
   "metadata": {},
   "outputs": [],
   "source": [
    "#print(soup)\n",
    "movie_name = []\n",
    "year = []\n",
    "time = []\n",
    "rating = []\n",
    "metascore = []\n",
    "votes = []\n",
    "gross = []\n",
    "genre = []\n",
    "director = []\n",
    "actors = []"
   ]
  },
  {
   "cell_type": "code",
   "execution_count": 9,
   "metadata": {},
   "outputs": [],
   "source": [
    "movie_data = soup.find_all('div', class_ = 'lister-item mode-advanced')"
   ]
  },
  {
   "cell_type": "code",
   "execution_count": 10,
   "metadata": {},
   "outputs": [],
   "source": [
    "#Storing url of each page\n",
    "for page in pages:\n",
    "    page = requests.get('https://www.imdb.com/search/title/?groups=top_1000&sort=user_rating,desc&start=' + str(page) + '&ref_=adv_nxt',headers=headers)\n",
    "    soup = BeautifulSoup(page.text, 'html.parser')\n",
    "    for i in movie_data:\n",
    "        name = i.h3.a.text\n",
    "        movie_name.append(name)\n",
    "    \n",
    "        yr = i.h3.find('span', class_ = 'lister-item-year text-muted unbold').text.replace('(','').replace(')','')\n",
    "        year.append(yr)\n",
    "    \n",
    "        duration = i.p.find('span', class_ = 'runtime').text.replace(' min','')\n",
    "        time.append(duration)\n",
    "    \n",
    "        rate = i.find('div', class_ = 'inline-block ratings-imdb-rating').text.replace('\\n','')\n",
    "        rating.append(rate)\n",
    "    \n",
    "        meta = i.find('span', class_ = 'metascore').text if i.find('span', class_ = 'metascore') else '-'\n",
    "        metascore.append(meta)\n",
    "    \n",
    "        value = i.find_all('span', attrs = {name :'nv'})\n",
    "        vote = value[0].text if len(value) > 1 else '-'\n",
    "        votes.append(vote)\n",
    "    \n",
    "        gross_amount = value[1].text if len(value) > 1 else '-'\n",
    "        gross.append(gross_amount)\n",
    "    \n",
    "        gen = i.p.find('span', class_ = 'genre').text.replace('\\n','')\n",
    "        genre.append(gen)\n",
    "        \n",
    "        direc = i.find('p', class_ = '').find_all('a')[0].text\n",
    "        director.append(direc)\n",
    "        \n",
    "        cast = [a.text for a in i.find('p', class_ = '').find_all('a')[1:]]\n",
    "        actors.append(cast)\n"
   ]
  },
  {
   "cell_type": "code",
   "execution_count": 11,
   "metadata": {},
   "outputs": [],
   "source": [
    "df = pd.DataFrame({\n",
    "'Name of Movie': movie_name,\n",
    "'Year of release': year,\n",
    "'Runtime': time,\n",
    "'Movie Rating': rating,\n",
    "'Metascore': metascore,\n",
    "'Votes': votes,\n",
    "'Gross Collection': gross,\n",
    "'Genre': genre,\n",
    "'Director': director,\n",
    "'Cast': actors\n",
    "})"
   ]
  },
  {
   "cell_type": "code",
   "execution_count": 12,
   "metadata": {},
   "outputs": [
    {
     "data": {
      "text/html": [
       "<div>\n",
       "<style scoped>\n",
       "    .dataframe tbody tr th:only-of-type {\n",
       "        vertical-align: middle;\n",
       "    }\n",
       "\n",
       "    .dataframe tbody tr th {\n",
       "        vertical-align: top;\n",
       "    }\n",
       "\n",
       "    .dataframe thead th {\n",
       "        text-align: right;\n",
       "    }\n",
       "</style>\n",
       "<table border=\"1\" class=\"dataframe\">\n",
       "  <thead>\n",
       "    <tr style=\"text-align: right;\">\n",
       "      <th></th>\n",
       "      <th>Name of Movie</th>\n",
       "      <th>Year of release</th>\n",
       "      <th>Runtime</th>\n",
       "      <th>Movie Rating</th>\n",
       "      <th>Metascore</th>\n",
       "      <th>Votes</th>\n",
       "      <th>Gross Collection</th>\n",
       "      <th>Genre</th>\n",
       "      <th>Director</th>\n",
       "      <th>Cast</th>\n",
       "    </tr>\n",
       "  </thead>\n",
       "  <tbody>\n",
       "    <tr>\n",
       "      <th>0</th>\n",
       "      <td>Jai Bhim</td>\n",
       "      <td>2021</td>\n",
       "      <td>164</td>\n",
       "      <td>9.5</td>\n",
       "      <td>-</td>\n",
       "      <td>-</td>\n",
       "      <td>-</td>\n",
       "      <td>Crime, Drama, Mystery</td>\n",
       "      <td>T.J. Gnanavel</td>\n",
       "      <td>[Suriya, Lijo Mol Jose, Manikandan K., Rajisha...</td>\n",
       "    </tr>\n",
       "    <tr>\n",
       "      <th>1</th>\n",
       "      <td>Soorarai Pottru</td>\n",
       "      <td>2020</td>\n",
       "      <td>153</td>\n",
       "      <td>9.3</td>\n",
       "      <td>-</td>\n",
       "      <td>-</td>\n",
       "      <td>-</td>\n",
       "      <td>Drama</td>\n",
       "      <td>Sudha Kongara</td>\n",
       "      <td>[Suriya, Paresh Rawal, Mohan Babu, Malini Sath...</td>\n",
       "    </tr>\n",
       "    <tr>\n",
       "      <th>2</th>\n",
       "      <td>The Shawshank Redemption</td>\n",
       "      <td>1994</td>\n",
       "      <td>142</td>\n",
       "      <td>9.3</td>\n",
       "      <td>81</td>\n",
       "      <td>-</td>\n",
       "      <td>-</td>\n",
       "      <td>Drama</td>\n",
       "      <td>Frank Darabont</td>\n",
       "      <td>[Tim Robbins, Morgan Freeman, Bob Gunton, Will...</td>\n",
       "    </tr>\n",
       "    <tr>\n",
       "      <th>3</th>\n",
       "      <td>The Godfather</td>\n",
       "      <td>1972</td>\n",
       "      <td>175</td>\n",
       "      <td>9.2</td>\n",
       "      <td>100</td>\n",
       "      <td>-</td>\n",
       "      <td>-</td>\n",
       "      <td>Crime, Drama</td>\n",
       "      <td>Francis Ford Coppola</td>\n",
       "      <td>[Marlon Brando, Al Pacino, James Caan, Diane K...</td>\n",
       "    </tr>\n",
       "    <tr>\n",
       "      <th>4</th>\n",
       "      <td>The Dark Knight</td>\n",
       "      <td>2008</td>\n",
       "      <td>152</td>\n",
       "      <td>9.1</td>\n",
       "      <td>84</td>\n",
       "      <td>-</td>\n",
       "      <td>-</td>\n",
       "      <td>Action, Crime, Drama</td>\n",
       "      <td>Christopher Nolan</td>\n",
       "      <td>[Christian Bale, Heath Ledger, Aaron Eckhart, ...</td>\n",
       "    </tr>\n",
       "    <tr>\n",
       "      <th>...</th>\n",
       "      <td>...</td>\n",
       "      <td>...</td>\n",
       "      <td>...</td>\n",
       "      <td>...</td>\n",
       "      <td>...</td>\n",
       "      <td>...</td>\n",
       "      <td>...</td>\n",
       "      <td>...</td>\n",
       "      <td>...</td>\n",
       "      <td>...</td>\n",
       "    </tr>\n",
       "    <tr>\n",
       "      <th>995</th>\n",
       "      <td>Raatchasan</td>\n",
       "      <td>2018</td>\n",
       "      <td>170</td>\n",
       "      <td>8.5</td>\n",
       "      <td>-</td>\n",
       "      <td>-</td>\n",
       "      <td>-</td>\n",
       "      <td>Crime, Drama, Mystery</td>\n",
       "      <td>Ram Kumar</td>\n",
       "      <td>[Vishnu Vishal, Amala Paul, Radha Ravi, Sangil...</td>\n",
       "    </tr>\n",
       "    <tr>\n",
       "      <th>996</th>\n",
       "      <td>Parasite</td>\n",
       "      <td>2019</td>\n",
       "      <td>132</td>\n",
       "      <td>8.5</td>\n",
       "      <td>96</td>\n",
       "      <td>-</td>\n",
       "      <td>-</td>\n",
       "      <td>Comedy, Drama, Thriller</td>\n",
       "      <td>Bong Joon Ho</td>\n",
       "      <td>[Kang-ho Song, Sun-kyun Lee, Yeo-jeong Cho, Ch...</td>\n",
       "    </tr>\n",
       "    <tr>\n",
       "      <th>997</th>\n",
       "      <td>Ayla: The Daughter of War</td>\n",
       "      <td>2017</td>\n",
       "      <td>125</td>\n",
       "      <td>8.5</td>\n",
       "      <td>-</td>\n",
       "      <td>-</td>\n",
       "      <td>-</td>\n",
       "      <td>Biography, Drama, History</td>\n",
       "      <td>Can Ulkay</td>\n",
       "      <td>[Halenur Uzunoglu, Çetin Tekindor, Ismail Haci...</td>\n",
       "    </tr>\n",
       "    <tr>\n",
       "      <th>998</th>\n",
       "      <td>Avengers: Infinity War</td>\n",
       "      <td>2018</td>\n",
       "      <td>149</td>\n",
       "      <td>8.5</td>\n",
       "      <td>68</td>\n",
       "      <td>-</td>\n",
       "      <td>-</td>\n",
       "      <td>Action, Adventure, Sci-Fi</td>\n",
       "      <td>Anthony Russo</td>\n",
       "      <td>[Joe Russo, Robert Downey Jr., Chris Hemsworth...</td>\n",
       "    </tr>\n",
       "    <tr>\n",
       "      <th>999</th>\n",
       "      <td>Whiplash</td>\n",
       "      <td>2014</td>\n",
       "      <td>106</td>\n",
       "      <td>8.5</td>\n",
       "      <td>88</td>\n",
       "      <td>-</td>\n",
       "      <td>-</td>\n",
       "      <td>Drama, Music</td>\n",
       "      <td>Damien Chazelle</td>\n",
       "      <td>[Miles Teller, J.K. Simmons, Melissa Benoist, ...</td>\n",
       "    </tr>\n",
       "  </tbody>\n",
       "</table>\n",
       "<p>1000 rows × 10 columns</p>\n",
       "</div>"
      ],
      "text/plain": [
       "                 Name of Movie Year of release Runtime Movie Rating  \\\n",
       "0                     Jai Bhim            2021     164          9.5   \n",
       "1              Soorarai Pottru            2020     153          9.3   \n",
       "2     The Shawshank Redemption            1994     142          9.3   \n",
       "3                The Godfather            1972     175          9.2   \n",
       "4              The Dark Knight            2008     152          9.1   \n",
       "..                         ...             ...     ...          ...   \n",
       "995                 Raatchasan            2018     170          8.5   \n",
       "996                   Parasite            2019     132          8.5   \n",
       "997  Ayla: The Daughter of War            2017     125          8.5   \n",
       "998     Avengers: Infinity War            2018     149          8.5   \n",
       "999                   Whiplash            2014     106          8.5   \n",
       "\n",
       "       Metascore Votes Gross Collection  \\\n",
       "0              -     -                -   \n",
       "1              -     -                -   \n",
       "2     81             -                -   \n",
       "3    100             -                -   \n",
       "4     84             -                -   \n",
       "..           ...   ...              ...   \n",
       "995            -     -                -   \n",
       "996   96             -                -   \n",
       "997            -     -                -   \n",
       "998   68             -                -   \n",
       "999   88             -                -   \n",
       "\n",
       "                                     Genre              Director  \\\n",
       "0        Crime, Drama, Mystery                     T.J. Gnanavel   \n",
       "1                        Drama                     Sudha Kongara   \n",
       "2                        Drama                    Frank Darabont   \n",
       "3                 Crime, Drama              Francis Ford Coppola   \n",
       "4         Action, Crime, Drama                 Christopher Nolan   \n",
       "..                                     ...                   ...   \n",
       "995      Crime, Drama, Mystery                         Ram Kumar   \n",
       "996    Comedy, Drama, Thriller                      Bong Joon Ho   \n",
       "997  Biography, Drama, History                         Can Ulkay   \n",
       "998  Action, Adventure, Sci-Fi                     Anthony Russo   \n",
       "999               Drama, Music                   Damien Chazelle   \n",
       "\n",
       "                                                  Cast  \n",
       "0    [Suriya, Lijo Mol Jose, Manikandan K., Rajisha...  \n",
       "1    [Suriya, Paresh Rawal, Mohan Babu, Malini Sath...  \n",
       "2    [Tim Robbins, Morgan Freeman, Bob Gunton, Will...  \n",
       "3    [Marlon Brando, Al Pacino, James Caan, Diane K...  \n",
       "4    [Christian Bale, Heath Ledger, Aaron Eckhart, ...  \n",
       "..                                                 ...  \n",
       "995  [Vishnu Vishal, Amala Paul, Radha Ravi, Sangil...  \n",
       "996  [Kang-ho Song, Sun-kyun Lee, Yeo-jeong Cho, Ch...  \n",
       "997  [Halenur Uzunoglu, Çetin Tekindor, Ismail Haci...  \n",
       "998  [Joe Russo, Robert Downey Jr., Chris Hemsworth...  \n",
       "999  [Miles Teller, J.K. Simmons, Melissa Benoist, ...  \n",
       "\n",
       "[1000 rows x 10 columns]"
      ]
     },
     "execution_count": 12,
     "metadata": {},
     "output_type": "execute_result"
    }
   ],
   "source": [
    "df"
   ]
  },
  {
   "cell_type": "code",
   "execution_count": 13,
   "metadata": {},
   "outputs": [
    {
     "data": {
      "text/plain": [
       "Name of Movie       object\n",
       "Year of release     object\n",
       "Runtime             object\n",
       "Movie Rating        object\n",
       "Metascore           object\n",
       "Votes               object\n",
       "Gross Collection    object\n",
       "Genre               object\n",
       "Director            object\n",
       "Cast                object\n",
       "dtype: object"
      ]
     },
     "execution_count": 13,
     "metadata": {},
     "output_type": "execute_result"
    }
   ],
   "source": [
    "df.dtypes"
   ]
  },
  {
   "cell_type": "markdown",
   "metadata": {},
   "source": [
    "# Data Cleaning"
   ]
  },
  {
   "cell_type": "code",
   "execution_count": 14,
   "metadata": {},
   "outputs": [
    {
     "data": {
      "text/plain": [
       "Name of Movie       object\n",
       "Year of release     object\n",
       "Runtime             object\n",
       "Movie Rating        object\n",
       "Metascore           object\n",
       "Votes               object\n",
       "Gross Collection    object\n",
       "Genre               object\n",
       "Director            object\n",
       "Cast                object\n",
       "dtype: object"
      ]
     },
     "execution_count": 14,
     "metadata": {},
     "output_type": "execute_result"
    }
   ],
   "source": [
    "df.dtypes"
   ]
  },
  {
   "cell_type": "code",
   "execution_count": 15,
   "metadata": {
    "scrolled": true
   },
   "outputs": [],
   "source": [
    "df['Year of release'] = df['Year of release'].str.extract('(\\d+)').astype(int)"
   ]
  },
  {
   "cell_type": "code",
   "execution_count": 16,
   "metadata": {},
   "outputs": [],
   "source": [
    "df['Runtime'] = df['Runtime'].astype(int)\n",
    "\n",
    "df['Movie Rating'] = df['Movie Rating'].astype(float)\n",
    "\n",
    "df['Metascore'] = pd.to_numeric(df['Metascore'], errors = 'coerce')\n"
   ]
  },
  {
   "cell_type": "code",
   "execution_count": 17,
   "metadata": {},
   "outputs": [
    {
     "data": {
      "text/plain": [
       "Name of Movie        object\n",
       "Year of release       int32\n",
       "Runtime               int32\n",
       "Movie Rating        float64\n",
       "Metascore           float64\n",
       "Votes                object\n",
       "Gross Collection     object\n",
       "Genre                object\n",
       "Director             object\n",
       "Cast                 object\n",
       "dtype: object"
      ]
     },
     "execution_count": 17,
     "metadata": {},
     "output_type": "execute_result"
    }
   ],
   "source": [
    "df.dtypes"
   ]
  },
  {
   "cell_type": "code",
   "execution_count": 18,
   "metadata": {},
   "outputs": [],
   "source": [
    "df['Genre'] = str(df['Genre'])"
   ]
  },
  {
   "cell_type": "code",
   "execution_count": 20,
   "metadata": {},
   "outputs": [],
   "source": [
    "df['Name of Movie'] = str(df['Name of Movie'])\n",
    "df['Director'] = str(df['Director'])\n",
    "df['Cast'] = str(df['Cast'])"
   ]
  }
 ],
 "metadata": {
  "kernelspec": {
   "display_name": "Python 3",
   "language": "python",
   "name": "python3"
  },
  "language_info": {
   "codemirror_mode": {
    "name": "ipython",
    "version": 3
   },
   "file_extension": ".py",
   "mimetype": "text/x-python",
   "name": "python",
   "nbconvert_exporter": "python",
   "pygments_lexer": "ipython3",
   "version": "3.8.3"
  }
 },
 "nbformat": 4,
 "nbformat_minor": 4
}
